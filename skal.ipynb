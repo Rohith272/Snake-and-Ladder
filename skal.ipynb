{
  "nbformat": 4,
  "nbformat_minor": 0,
  "metadata": {
    "colab": {
      "name": "skal.ipynb",
      "provenance": [],
      "authorship_tag": "ABX9TyM/FdYjStmsIH60VKH+bKsN",
      "include_colab_link": true
    },
    "kernelspec": {
      "name": "python3",
      "display_name": "Python 3"
    },
    "language_info": {
      "name": "python"
    }
  },
  "cells": [
    {
      "cell_type": "markdown",
      "metadata": {
        "id": "view-in-github",
        "colab_type": "text"
      },
      "source": [
        "<a href=\"https://colab.research.google.com/github/Rohith272/Snake-and-Ladder/blob/main/skal.ipynb\" target=\"_parent\"><img src=\"https://colab.research.google.com/assets/colab-badge.svg\" alt=\"Open In Colab\"/></a>"
      ]
    },
    {
      "cell_type": "code",
      "metadata": {
        "colab": {
          "base_uri": "https://localhost:8080/"
        },
        "id": "ATN068ku-yoQ",
        "outputId": "d50299ac-aa5c-490c-9953-8292c94b4ae6"
      },
      "source": [
        "import random\n",
        "def dice():\n",
        "    x = random.randint(0,7)\n",
        "    return x\n",
        "red = 0\n",
        "blue = 0\n",
        "yellow =0 \n",
        "green = 0\n",
        "print(\"The Starting postion are \\nRed = \",red,\"\\nBlue = \",blue,\"\\nYellow = \",yellow,\"\\nGreen = \",green)\n",
        "print(\"\\nPress 1 to start\")\n",
        "\n",
        "start = input()\n",
        "\n"
      ],
      "execution_count": 7,
      "outputs": [
        {
          "output_type": "stream",
          "name": "stdout",
          "text": [
            "The Starting postion are \n",
            "Red =  0 \n",
            "Blue =  0 \n",
            "Yellow =  0 \n",
            "Green =  0\n",
            "\n",
            "Press 1 to start\n"
          ]
        }
      ]
    },
    {
      "cell_type": "code",
      "metadata": {
        "id": "s9kFxBhhAncE"
      },
      "source": [
        ""
      ],
      "execution_count": null,
      "outputs": []
    }
  ]
}