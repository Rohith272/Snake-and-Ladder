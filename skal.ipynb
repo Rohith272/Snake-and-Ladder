{
  "nbformat": 4,
  "nbformat_minor": 0,
  "metadata": {
    "colab": {
      "name": "skal.ipynb",
      "provenance": [],
      "authorship_tag": "ABX9TyPo70EOuLpZdecxfnryliA6",
      "include_colab_link": true
    },
    "kernelspec": {
      "name": "python3",
      "display_name": "Python 3"
    },
    "language_info": {
      "name": "python"
    }
  },
  "cells": [
    {
      "cell_type": "markdown",
      "metadata": {
        "id": "view-in-github",
        "colab_type": "text"
      },
      "source": [
        "<a href=\"https://colab.research.google.com/github/Rohith272/Snake-and-Ladder/blob/main/skal.ipynb\" target=\"_parent\"><img src=\"https://colab.research.google.com/assets/colab-badge.svg\" alt=\"Open In Colab\"/></a>"
      ]
    },
    {
      "cell_type": "code",
      "metadata": {
        "id": "ATN068ku-yoQ"
      },
      "source": [
        "import random\n",
        "#functions\n",
        "def finalcheck(position):\n",
        "  if (position>=100):\n",
        "    print(\"\\nHurray You Wonn!!!!!\")\n",
        "def dice():\n",
        "    x = random.randint(1,6)\n",
        "    return x\n",
        "#declarations\n",
        "red = 0\n",
        "blue = 0\n",
        "yellow =0 \n",
        "green = 0\n",
        "flagred = 0\n",
        "flagblue = 0\n",
        "flagyellow = 0\n",
        "flaggreen = 0\n",
        "print(\"The Starting postion are \\nRed = \",red,\"\\nBlue = \",blue,\"\\nYellow = \",yellow,\"\\nGreen = \",green)\n",
        "start = int(input(\"\\nPress 1 to start\"))\n",
        "\n",
        "if (start==1):\n",
        "  while(1):\n",
        "    #chance for red\n",
        "    print(\"\\nChance for Red\")\n",
        "    throw = int(input(\"\\nPress 5 to roll the dice\"))\n",
        "    if (throw==5):\n",
        "      val = dice()\n",
        "      print('\\nDice value : ',val)\n",
        "      if (flagred == 0):\n",
        "        if (val==6):\n",
        "          flagred=1\n",
        "          red = red+1\n",
        "          print(\"Position of red : \",red)\n",
        "      else:\n",
        "          red = red+val\n",
        "          print(\"\\nPosition of red : \",red)\n",
        "    finalcheck(red)\n",
        "    val=0\n",
        "    #chance for blue\n",
        "    print(\"\\nChance for Blue\")\n",
        "    throw = int(input(\"\\nPress 5 to roll the dice\"))\n",
        "    if (throw==5):\n",
        "      val = dice()\n",
        "      print('\\nDice value : ',val)\n",
        "      if (flagblue == 0):\n",
        "        if (val==6):\n",
        "          flagblue=1\n",
        "          blue = blue+1\n",
        "          print(\"Position of Blue : \",blue)\n",
        "      else:\n",
        "          blue = blue+val\n",
        "          print(\"\\nPosition of Blue : \",blue)\n",
        "    finalcheck(blue)\n",
        "    val = 0\n",
        "    #chance for yellow\n",
        "    print(\"\\nChance for Yellow\")\n",
        "    throw = int(input(\"\\nPress 5 to roll the dice\"))\n",
        "    if (throw==5):\n",
        "      val = dice()\n",
        "      print('\\nDice value : ',val)\n",
        "      if (flagyellow == 0):\n",
        "        if (val==6):\n",
        "          flagyellow=1\n",
        "          yellow = yellow+1\n",
        "          print(\"Position of yellow : \",yellow)\n",
        "      else:\n",
        "          blue = blue+val\n",
        "          print(\"\\nPosition of yellow : \",yellow)\n",
        "    finalcheck(yellow)\n",
        "    val = 0\n",
        "    #chance for green\n",
        "    print(\"\\nChance for Green\")\n",
        "    throw = int(input(\"\\nPress 5 to roll the dice\"))\n",
        "    if (throw==5):\n",
        "      val = dice()\n",
        "      print('\\nDice value : ',val)\n",
        "      if (flaggreen == 0):\n",
        "        if (val==6):\n",
        "          flaggreen=1\n",
        "          green = green+1\n",
        "          print(\"Position of Green : \",green)\n",
        "      else:\n",
        "          green = green+val\n",
        "          print(\"\\nPosition of Green : \",green)\n",
        "      finalcheck(green)\n",
        "      val=0\n",
        "\n",
        "\n",
        "\n",
        "\n"
      ],
      "execution_count": null,
      "outputs": []
    },
    {
      "cell_type": "code",
      "metadata": {
        "id": "s9kFxBhhAncE"
      },
      "source": [
        "\n"
      ],
      "execution_count": null,
      "outputs": []
    }
  ]
}