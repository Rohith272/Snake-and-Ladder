{
  "nbformat": 4,
  "nbformat_minor": 0,
  "metadata": {
    "colab": {
      "name": "skal.ipynb",
      "provenance": [],
      "authorship_tag": "ABX9TyOKV6I+GMycmFYx2JUIWDLU",
      "include_colab_link": true
    },
    "kernelspec": {
      "name": "python3",
      "display_name": "Python 3"
    },
    "language_info": {
      "name": "python"
    }
  },
  "cells": [
    {
      "cell_type": "markdown",
      "metadata": {
        "id": "view-in-github",
        "colab_type": "text"
      },
      "source": [
        "<a href=\"https://colab.research.google.com/github/Rohith272/Snake-and-Ladder/blob/main/skal.ipynb\" target=\"_parent\"><img src=\"https://colab.research.google.com/assets/colab-badge.svg\" alt=\"Open In Colab\"/></a>"
      ]
    },
    {
      "cell_type": "code",
      "metadata": {
        "colab": {
          "base_uri": "https://localhost:8080/"
        },
        "id": "ATN068ku-yoQ",
        "outputId": "7779ab03-3f50-4ac1-af8f-1a1089c4c81a"
      },
      "source": [
        "import random\n",
        "def dice():\n",
        "    x = random.randint(1,6)\n",
        "    return x\n",
        "red = 0\n",
        "blue = 0\n",
        "yellow =0 \n",
        "green = 0\n",
        "flagred = 0\n",
        "flagblue = 0\n",
        "flagyellow = 0\n",
        "print(\"The Starting postion are \\nRed = \",red,\"\\nBlue = \",blue,\"\\nYellow = \",yellow,\"\\nGreen = \",green)\n",
        "start = int(input(\"\\nPress 1 to start\"))\n",
        "\n",
        "if (start==1):\n",
        "  while(1):\n",
        "    #chance for red\n",
        "    print(\"\\nChance for Red\")\n",
        "    throw = int(input(\"\\nPress 5 to roll the dice\"))\n",
        "    if (throw==5):\n",
        "      val = dice()\n",
        "      print('\\nDice value : ',val)\n",
        "      if (flagred == 0):\n",
        "        if (val==6):\n",
        "          flagred=1\n",
        "          red = red+1\n",
        "          print(\"Position of red : \",red)\n",
        "      else:\n",
        "          red = red+val\n",
        "          print(\"\\nPosition of red : \",red)\n",
        "    val=0\n",
        "    #chance for blue\n",
        "    print(\"\\nChance for Blue\")\n",
        "    throw = int(input(\"\\nPress 5 to roll the dice\"))\n",
        "    if (throw==5):\n",
        "      val = dice()\n",
        "      print('\\nDice value : ',val)\n",
        "      if (flagblue == 0):\n",
        "        if (val==6):\n",
        "          flagblue=1\n",
        "          blue = blue+1\n",
        "          print(\"Position of Blue : \",blue)\n",
        "      else:\n",
        "          blue = blue+val\n",
        "          print(\"\\nPosition of Blue : \",blue)\n",
        "    val = 0\n",
        "    #chance for yellow\n",
        "    print(\"\\nChance for Yellow\")\n",
        "    throw = int(input(\"\\nPress 5 to roll the dice\"))\n",
        "    if (throw==5):\n",
        "      val = dice()\n",
        "      print('\\nDice value : ',val)\n",
        "      if (flagyellow == 0):\n",
        "        if (val==6):\n",
        "          flagvalue=1\n",
        "          yellow = yellow+1\n",
        "          print(\"Position of yellow : \",yellow)\n",
        "      else:\n",
        "          blue = blue+val\n",
        "          print(\"\\nPosition of yellow : \",yellow)\n",
        "\n",
        "\n",
        "\n"
      ],
      "execution_count": null,
      "outputs": [
        {
          "output_type": "stream",
          "name": "stdout",
          "text": [
            "The Starting postion are \n",
            "Red =  0 \n",
            "Blue =  0 \n",
            "Yellow =  0 \n",
            "Green =  0\n",
            "\n",
            "Chance for Red\n",
            "\n",
            "Dice value :  3\n",
            "\n",
            "Chance for Blue\n",
            "\n",
            "Dice value :  6\n",
            "Position of Blue :  1\n",
            "\n",
            "Chance for Yellow\n",
            "\n",
            "Dice value :  5\n",
            "\n",
            "Chance for Red\n",
            "\n",
            "Press 5 to roll the dice5\n",
            "\n",
            "Dice value :  5\n",
            "\n",
            "Chance for Blue\n"
          ]
        }
      ]
    },
    {
      "cell_type": "code",
      "metadata": {
        "id": "s9kFxBhhAncE"
      },
      "source": [
        ""
      ],
      "execution_count": null,
      "outputs": []
    }
  ]
}